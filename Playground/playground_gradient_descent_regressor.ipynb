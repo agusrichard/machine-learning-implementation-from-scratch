{
  "nbformat": 4,
  "nbformat_minor": 0,
  "metadata": {
    "colab": {
      "name": "pg-gradient-descent-regressor.ipynb",
      "provenance": [],
      "collapsed_sections": []
    },
    "kernelspec": {
      "name": "python3",
      "display_name": "Python 3"
    }
  },
  "cells": [
    {
      "cell_type": "markdown",
      "metadata": {
        "id": "9YHZQ1uBQObV",
        "colab_type": "text"
      },
      "source": [
        "# Testing GradientDescentRegressor Scratch Implementation"
      ]
    },
    {
      "cell_type": "code",
      "metadata": {
        "id": "HDztihUCqM6x",
        "colab_type": "code",
        "colab": {}
      },
      "source": [
        "from sklearn.datasets import load_iris\n",
        "import numpy as np"
      ],
      "execution_count": 0,
      "outputs": []
    },
    {
      "cell_type": "code",
      "metadata": {
        "id": "CfkjIxj07M14",
        "colab_type": "code",
        "outputId": "9e7a212e-4caa-4612-d0c1-6bf3728611c1",
        "colab": {
          "base_uri": "https://localhost:8080/",
          "height": 287
        }
      },
      "source": [
        "from sklearn.datasets import make_regression\n",
        "import matplotlib.pyplot as plt\n",
        "\n",
        "X, y = make_regression(n_samples=200, n_features=1, bias=0.5, noise=10)\n",
        "\n",
        "plt.scatter(X, y)"
      ],
      "execution_count": 0,
      "outputs": [
        {
          "output_type": "execute_result",
          "data": {
            "text/plain": [
              "<matplotlib.collections.PathCollection at 0x7f3290a5f7f0>"
            ]
          },
          "metadata": {
            "tags": []
          },
          "execution_count": 2
        },
        {
          "output_type": "display_data",
          "data": {
            "image/png": "[encoded data removed]",
            "text/plain": [
              "<Figure size 432x288 with 1 Axes>"
            ]
          },
          "metadata": {
            "tags": []
          }
        }
      ]
    },
    {
      "cell_type": "code",
      "metadata": {
        "id": "R0okxmpZ84Tl",
        "colab_type": "code",
        "colab": {}
      },
      "source": [
        "import numpy as np \n",
        "\n",
        "class FullBatchGradientDescentRegressor():\n",
        "\n",
        "    \"\"\"Implementation of linear model using Gradient Descent optimizer to get \n",
        "    the minimum error value. Using all the input data at once (full batch).\n",
        "\n",
        "\n",
        "    Parameters: \n",
        "    ----------\n",
        "\n",
        "    learning_rate : float, default = 0.01\n",
        "        Specifying the learning rate, or how large the step is\n",
        "\n",
        "    step : integer, default = 1000\n",
        "        Specifying the number of iterations performed\n",
        "\n",
        "\n",
        "    Attributes:\n",
        "    ----------\n",
        "\n",
        "    weights_ : array-like, shape (1, n_features) if n_classes == 2 else (n_classes,\\\n",
        "    n_features)\n",
        "        Weights assigned to the features. Use <estimator>.get_weights() to access it!\n",
        "\n",
        "    bias_ : array-like, shape (1,) if n_classes == 2 else (n_classes,)\n",
        "        Constants in decision function. Use <estimator>.get_bias() to access it!\n",
        "\n",
        "\n",
        "    Methods:\n",
        "    -------\n",
        "\n",
        "    train : parameters -> (X, y)\n",
        "        X : array-like\n",
        "            feature matrix to train the model\n",
        "        y : array-like\n",
        "            target vector to train the model\n",
        "\n",
        "    predict : parameters -> X\n",
        "        X : array-like\n",
        "            feature matrix to make prediction\n",
        "\n",
        "    get_weight \n",
        "        Getting the weights or coefficient of the linear model\n",
        "    \n",
        "    get_bias\n",
        "        Getting the bias or intercept of the linear model\n",
        "\n",
        "    \"\"\"\n",
        "\n",
        "    weights_ = 0\n",
        "    bias_ = 0\n",
        "\n",
        "\n",
        "    def __init__(self, learning_rate=0.01, step=1000):\n",
        "\n",
        "        global weights_, bias_\n",
        "\n",
        "        weights_ = np.random.randn(X.shape[1])\n",
        "        bias_ = np.random.randn(1)\n",
        "\n",
        "        self.learning_rate = learning_rate\n",
        "        self.step = step\n",
        "\n",
        "    def train(self, X, y):\n",
        "\n",
        "        global weights_, bias_\n",
        "        \n",
        "        for step in range(self.step):\n",
        "            weights_ = weights_ - (self.learning_rate * FullBatchGradientDescentRegressor._calculate_gradient(X, y))\n",
        "            bias_ = bias_ - (self.learning_rate * FullBatchGradientDescentRegressor._calculate_bias())\n",
        "\n",
        "        return self\n",
        "\n",
        "\n",
        "    def predict(self, X):\n",
        "        y_pred = np.matmul(X, weights_) + bias_\n",
        "        return y_pred\n",
        "\n",
        "\n",
        "    def _calculate_gradient(X, y):\n",
        "\n",
        "        gradient = np.empty(X.shape[1])\n",
        "        for i in range(len(gradient)):\n",
        "            summa = 0\n",
        "            for j in range(X.shape[0]):\n",
        "                summa = summa + (np.matmul(X[j], weights_) - y[j]) * X[j, i]\n",
        "            summa = summa / X.shape[0]\n",
        "            gradient[i] = summa\n",
        "\n",
        "        return gradient\n",
        "\n",
        "\n",
        "    def _calculate_bias():\n",
        "\n",
        "        gradient = 0\n",
        "        for j in range(X.shape[0]):\n",
        "            gradient = gradient + (np.matmul(X[j], weights_) - y[j])\n",
        "        return gradient / X.shape[0]\n",
        "    \n",
        "    def get_weights(self):\n",
        "        return weights_\n",
        "\n",
        "    def get_bias(self):\n",
        "        return bias_"
      ],
      "execution_count": 0,
      "outputs": []
    },
    {
      "cell_type": "code",
      "metadata": {
        "id": "eY4J-bxzVqJI",
        "colab_type": "code",
        "colab": {}
      },
      "source": [
        "from scipy.linalg import inv\n",
        "import numpy as np\n",
        "\n",
        "class NormalEquationLinearRegression():\n",
        "\n",
        "    \"\"\"Imitation of LinearRegression estimator from sklearn.\n",
        "    It doesn't take any parameters or hyperparameters. \n",
        "    This estimator will use full-batch, which means that it uses\n",
        "    all the data points and makes it slow to process a lot of data \n",
        "    points.\n",
        "\n",
        "\n",
        "    Parameters: \n",
        "    ----------\n",
        "    |------|\n",
        "\n",
        "\n",
        "    Attributes:\n",
        "    ----------\n",
        "\n",
        "    coef_ : array, shape (1, n_features) if n_classes == 2 else (n_classes, n_features)\n",
        "        Weights assigned to the features.\n",
        "\n",
        "    intercept_ : array, shape (1,) if n_classes == 2 else (n_classes,)\n",
        "        Constants in decision function.\n",
        "\n",
        "\n",
        "    Methods:\n",
        "    -------\n",
        "\n",
        "    train : parameters -> (X, y)\n",
        "        X : array-like\n",
        "            feature matrix to train the model\n",
        "        y : array-like\n",
        "            target vector to train the model\n",
        "\n",
        "    predict : parameters -> X\n",
        "        X : array-like\n",
        "            feature matrix to make prediction\n",
        "\n",
        "    get_weight \n",
        "        Getting the weights or coefficient of the linear model\n",
        "\n",
        "    get_bias\n",
        "        Getting the bias or intercept of the linear model\n",
        "\n",
        "    \"\"\"\n",
        "\n",
        "\n",
        "    def __init__(self):\n",
        "        pass\n",
        "\n",
        "\n",
        "    def train(self, X, y):\t\n",
        "\n",
        "        X = np.c_[np.ones(X.shape[0]), X]\n",
        "        weights = inv(X.T.dot(X)).dot(X.T).dot(y)\n",
        "        self.coef_ = weights[1:]\n",
        "        self.intercept_ = weights[0]\n",
        "        return self\n",
        "\n",
        "\n",
        "    def predict(self, X):\n",
        "        X = np.c_[np.ones(X.shape[0]), X]\n",
        "        return X.dot(np.hstack([self.coef_, self.intercept_]))\n",
        "\n",
        "\n",
        "    def get_weights():\n",
        "        return self.coef_  \n",
        "\n",
        "\n",
        "    def get_bias():\n",
        "        return self.intercept_"
      ],
      "execution_count": 0,
      "outputs": []
    },
    {
      "cell_type": "code",
      "metadata": {
        "id": "USE6BclNBD9w",
        "colab_type": "code",
        "colab": {}
      },
      "source": [
        "X, y, weight = make_regression(n_samples=200, n_features=1, bias=0.5, noise=10, coef=True)"
      ],
      "execution_count": 0,
      "outputs": []
    },
    {
      "cell_type": "code",
      "metadata": {
        "id": "qoNSA66OGNJP",
        "colab_type": "code",
        "outputId": "7f677fca-4630-47aa-ac69-e6ea8177a832",
        "colab": {
          "base_uri": "https://localhost:8080/",
          "height": 54
        }
      },
      "source": [
        "regressor = FullBatchGradientDescentRegressor(learning_rate=0.01, step=1000).train(X, y)\n",
        "print(\"True weight: \", weight)\n",
        "print(\"Prediction weight: \", regressor.get_weights())"
      ],
      "execution_count": 0,
      "outputs": [
        {
          "output_type": "stream",
          "text": [
            "True weight:  40.19180111451711\n",
            "Prediction weight:  [40.06162108]\n"
          ],
          "name": "stdout"
        }
      ]
    },
    {
      "cell_type": "code",
      "metadata": {
        "id": "oWVjnCJiGcnv",
        "colab_type": "code",
        "outputId": "d34aa0fa-c962-4d17-d482-b8541fc115a0",
        "colab": {
          "base_uri": "https://localhost:8080/",
          "height": 287
        }
      },
      "source": [
        "plt.scatter(X, y)"
      ],
      "execution_count": 0,
      "outputs": [
        {
          "output_type": "execute_result",
          "data": {
            "text/plain": [
              "<matplotlib.collections.PathCollection at 0x7f328e18ac50>"
            ]
          },
          "metadata": {
            "tags": []
          },
          "execution_count": 7
        },
        {
          "output_type": "display_data",
          "data": {
            "image/png": "[encoded data removed]",
            "text/plain": [
              "<Figure size 432x288 with 1 Axes>"
            ]
          },
          "metadata": {
            "tags": []
          }
        }
      ]
    },
    {
      "cell_type": "code",
      "metadata": {
        "id": "Nv6o6GeWG7Zg",
        "colab_type": "code",
        "outputId": "70c74e73-401c-45f0-c088-07fea3cb8dfe",
        "colab": {
          "base_uri": "https://localhost:8080/",
          "height": 287
        }
      },
      "source": [
        "line = np.arange(-3, 3, 0.01).reshape(-1, 1)\n",
        "y_pred = regressor.predict(line)\n",
        "plt.scatter(X, y)\n",
        "plt.plot(line, y_pred, linestyle='--', c='k')"
      ],
      "execution_count": 0,
      "outputs": [
        {
          "output_type": "execute_result",
          "data": {
            "text/plain": [
              "[<matplotlib.lines.Line2D at 0x7f328e142e10>]"
            ]
          },
          "metadata": {
            "tags": []
          },
          "execution_count": 8
        },
        {
          "output_type": "display_data",
          "data": {
            "image/png": "[encoded data removed]",
            "text/plain": [
              "<Figure size 432x288 with 1 Axes>"
            ]
          },
          "metadata": {
            "tags": []
          }
        }
      ]
    },
    {
      "cell_type": "markdown",
      "metadata": {
        "id": "iKQ9YOpoPrL6",
        "colab_type": "text"
      },
      "source": [
        "---"
      ]
    },
    {
      "cell_type": "markdown",
      "metadata": {
        "id": "SfI25HzVPtiV",
        "colab_type": "text"
      },
      "source": [
        "## Implementing to Boston Housing"
      ]
    },
    {
      "cell_type": "code",
      "metadata": {
        "id": "yLHwlpfWQwTX",
        "colab_type": "code",
        "colab": {}
      },
      "source": [
        "from sklearn.datasets import load_boston\n",
        "from sklearn.model_selection import train_test_split\n",
        "from sklearn.metrics import r2_score\n",
        "from sklearn.linear_model import LinearRegression, SGDRegressor"
      ],
      "execution_count": 0,
      "outputs": []
    },
    {
      "cell_type": "code",
      "metadata": {
        "id": "QTkcuwuMSi_i",
        "colab_type": "code",
        "colab": {}
      },
      "source": [
        "bunch = load_boston()"
      ],
      "execution_count": 0,
      "outputs": []
    },
    {
      "cell_type": "code",
      "metadata": {
        "id": "rkum_zImTSxh",
        "colab_type": "code",
        "colab": {}
      },
      "source": [
        "X = bunch.data\n",
        "y = bunch.target"
      ],
      "execution_count": 0,
      "outputs": []
    },
    {
      "cell_type": "code",
      "metadata": {
        "id": "X_9JNOBvTbvl",
        "colab_type": "code",
        "colab": {}
      },
      "source": [
        "X_train, X_test, y_train, y_test = train_test_split(X, y, test_size=0.1, random_state=42)"
      ],
      "execution_count": 0,
      "outputs": []
    }
  ]
}