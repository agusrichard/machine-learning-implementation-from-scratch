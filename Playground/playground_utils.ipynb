{
  "nbformat": 4,
  "nbformat_minor": 0,
  "metadata": {
    "colab": {
      "name": "playground-utils.ipynb",
      "provenance": [],
      "collapsed_sections": []
    },
    "kernelspec": {
      "name": "python3",
      "display_name": "Python 3"
    }
  },
  "cells": [
    {
      "cell_type": "markdown",
      "metadata": {
        "id": "1jgzJbuiNwnL",
        "colab_type": "text"
      },
      "source": [
        "# Playground for Utility"
      ]
    },
    {
      "cell_type": "code",
      "metadata": {
        "id": "IMncDA_3OEtW",
        "colab_type": "code",
        "colab": {}
      },
      "source": [
        "import numpy as np"
      ],
      "execution_count": 0,
      "outputs": []
    },
    {
      "cell_type": "markdown",
      "metadata": {
        "id": "aF5uhs_6grCM",
        "colab_type": "text"
      },
      "source": [
        "## train_test_split"
      ]
    },
    {
      "cell_type": "code",
      "metadata": {
        "id": "2Cujqu9Mho18",
        "colab_type": "code",
        "colab": {}
      },
      "source": [
        "def train_test_split(*arrays, test_ratio=0.1, random_state=42):\n",
        "    \"\"\"Split the data onto train set and test set. The function shuffle the data \n",
        "    before splitting it\n",
        "\n",
        "    Parameters:\n",
        "    ----------\n",
        "\n",
        "    *arrays: array-like\n",
        "        Sequence of indexables with same length / shape[0]\n",
        "\n",
        "    test_ratio : float, between 0 and 1\n",
        "        Percentage of test set \n",
        "\n",
        "    random_state : integer\n",
        "        Random state seed\n",
        "\n",
        "    Returns:\n",
        "    -------\n",
        "\n",
        "    splitting : list, length=2 * len(arrays)\n",
        "        List containing train-test split of inputs.\n",
        "    \n",
        "    \"\"\"\n",
        "\n",
        "    np.random.seed(random_state)\n",
        "    index = np.random.permutation(np.arange(len(arrays[0])))\n",
        "    test_size = int(len(arrays[0])*test_ratio)\n",
        "\n",
        "    def wrapper():\n",
        "        for element in arrays:\n",
        "            test_index = index[:test_size]\n",
        "            train_index = index[test_size:]\n",
        "            test = element[test_index]\n",
        "            train = element[train_index]\n",
        "            yield train\n",
        "            yield test\n",
        "\n",
        "    return tuple(wrapper())"
      ],
      "execution_count": 0,
      "outputs": []
    },
    {
      "cell_type": "code",
      "metadata": {
        "id": "EmQLvC_6gI2u",
        "colab_type": "code",
        "colab": {}
      },
      "source": [
        "X1 = np.random.randint(0, 10, size=(100, 10))\n",
        "X2 = np.random.randint(0, 10, size=(250, 10))\n",
        "X3 = np.random.randint(0, 10, size=(300, 10))\n",
        "y1 = np.random.randint(0, 10, size=(100,))\n",
        "y2 = np.random.randint(0, 10, size=(250,))\n",
        "y3 = np.random.randint(0, 10, size=(300,))"
      ],
      "execution_count": 0,
      "outputs": []
    },
    {
      "cell_type": "code",
      "metadata": {
        "id": "COPNqpC4iXRT",
        "colab_type": "code",
        "colab": {}
      },
      "source": [
        "X1_train, X1_test, y1_train, y1_test = train_test_split(X1, y1)"
      ],
      "execution_count": 0,
      "outputs": []
    },
    {
      "cell_type": "code",
      "metadata": {
        "id": "G6wLtU1EtyvR",
        "colab_type": "code",
        "outputId": "eaf54b2d-11af-4b2f-df73-9d49bdacaded",
        "colab": {
          "base_uri": "https://localhost:8080/",
          "height": 90
        }
      },
      "source": [
        "print(X1_train.shape)\n",
        "print(X1_test.shape)\n",
        "print(y1_train.shape)\n",
        "print(y1_test.shape)"
      ],
      "execution_count": 0,
      "outputs": [
        {
          "output_type": "stream",
          "text": [
            "(90, 10)\n",
            "(10, 10)\n",
            "(90,)\n",
            "(10,)\n"
          ],
          "name": "stdout"
        }
      ]
    },
    {
      "cell_type": "markdown",
      "metadata": {
        "id": "-NkufB8Jt4Ul",
        "colab_type": "text"
      },
      "source": [
        "## make_batch"
      ]
    },
    {
      "cell_type": "code",
      "metadata": {
        "id": "HQsHqCzguW-x",
        "colab_type": "code",
        "colab": {}
      },
      "source": [
        "def make_batch_index(sample_size, num_batch, size, shuffle=False, random_state=42):\n",
        "    \"\"\"Make batch index for further batch making process\n",
        "\n",
        "    Parameters:\n",
        "    ----------\n",
        "\n",
        "    sample_size : integer \n",
        "        Sample size\n",
        "\n",
        "    num_batch : integer\n",
        "        Number of batch\n",
        "\n",
        "    size : integer\n",
        "        sample size will be created\n",
        "    \n",
        "    shuffle : boolean\n",
        "        If True, using permutation to create index.\n",
        "        If False, using arange to create index \n",
        "\n",
        "    random_state : integer\n",
        "        Random state seed\n",
        "\n",
        "    Returns:\n",
        "        Batch index\n",
        "    \n",
        "    \"\"\"\n",
        "\n",
        "\n",
        "    gen = np.random.RandomState(random_state)\n",
        "    if sample_size == size:\n",
        "        if shuffle:\n",
        "            index_batch = np.array_split(gen.permutation(sample_size), num_batch)\n",
        "        else:\n",
        "            index_batch = np.array_split(np.arange(sample_size), num_batch)\n",
        "    elif num_batch <= size:\n",
        "        index_batch = np.array_split(gen.randint(0, sample_size, size=size), num_batch)\n",
        "    else:\n",
        "        raise ValueError(\"Size must be higher than number of batch\")\n",
        "    \n",
        "    return index_batch"
      ],
      "execution_count": 0,
      "outputs": []
    }
  ]
}