{
  "nbformat": 4,
  "nbformat_minor": 0,
  "metadata": {
    "colab": {
      "name": "playground-metrics-classification.ipynb",
      "provenance": [],
      "collapsed_sections": []
    },
    "kernelspec": {
      "name": "python3",
      "display_name": "Python 3"
    }
  },
  "cells": [
    {
      "cell_type": "markdown",
      "metadata": {
        "id": "2H0EYBQ14bfR",
        "colab_type": "text"
      },
      "source": [
        "# Playground Metrics (Classification)"
      ]
    },
    {
      "cell_type": "code",
      "metadata": {
        "id": "VqGfW65F4q7I",
        "colab_type": "code",
        "colab": {}
      },
      "source": [
        "import numpy as np\n",
        "from sklearn.metrics import accuracy_score as as_sklearn"
      ],
      "execution_count": 0,
      "outputs": []
    },
    {
      "cell_type": "markdown",
      "metadata": {
        "id": "4h-JCNcJh3SX",
        "colab_type": "text"
      },
      "source": [
        "## Accuracy score"
      ]
    },
    {
      "cell_type": "code",
      "metadata": {
        "id": "rkc-ArZIic7P",
        "colab_type": "code",
        "colab": {}
      },
      "source": [
        "def accuracy_score(predictions, labels):\n",
        "\n",
        "    \"\"\"Calculate the accuracy score between predictions and labels. \\\n",
        "    The percentage of correct predictions.\n",
        "\n",
        "    Parameters:\n",
        "    ----------\n",
        "\n",
        "    predictions : array-like\n",
        "    The predictions of an estimator\n",
        "\n",
        "    labels : array-like\n",
        "    The true labels of data\n",
        "\n",
        "    Raise:\n",
        "    -----\n",
        "\n",
        "    ValueError: raise value error when the length of predictions and labels are not the same\n",
        "\n",
        "    \"\"\"\n",
        "\n",
        "\n",
        "    if len(predictions) == len(labels):\n",
        "        return np.sum(np.equal(predictions, labels)) / len(predictions)\n",
        "    else:\n",
        "        raise ValueError(\"The length of predictions and labels are not the same\")\n"
      ],
      "execution_count": 0,
      "outputs": []
    },
    {
      "cell_type": "code",
      "metadata": {
        "id": "PjzXFvAIjwdO",
        "colab_type": "code",
        "outputId": "1add73a3-ab59-4031-a163-aad879fe9625",
        "colab": {
          "base_uri": "https://localhost:8080/",
          "height": 54
        }
      },
      "source": [
        "y_pred = [0, 2, 1, 3]\n",
        "y_true = [0, 1, 2, 3]\n",
        "\n",
        "print(accuracy_score(y_pred, y_true))\n",
        "print(as_sklearn(y_true, y_pred))"
      ],
      "execution_count": 0,
      "outputs": [
        {
          "output_type": "stream",
          "text": [
            "0.5\n",
            "0.5\n"
          ],
          "name": "stdout"
        }
      ]
    },
    {
      "cell_type": "markdown",
      "metadata": {
        "id": "5y4AfRoRkHt_",
        "colab_type": "text"
      },
      "source": [
        "## Confusion Matrix"
      ]
    },
    {
      "cell_type": "code",
      "metadata": {
        "id": "CxlGMUOak7Uc",
        "colab_type": "code",
        "colab": {}
      },
      "source": [
        ""
      ],
      "execution_count": 0,
      "outputs": []
    }
  ]
}