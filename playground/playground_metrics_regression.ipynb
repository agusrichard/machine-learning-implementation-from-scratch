{
  "nbformat": 4,
  "nbformat_minor": 0,
  "metadata": {
    "colab": {
      "name": "playground-metrics-regression.ipynb",
      "provenance": [],
      "collapsed_sections": []
    },
    "kernelspec": {
      "name": "python3",
      "display_name": "Python 3"
    }
  },
  "cells": [
    {
      "cell_type": "markdown",
      "metadata": {
        "id": "GLo-YVJEXYEG",
        "colab_type": "text"
      },
      "source": [
        "# Playground for Metrics (Regression)"
      ]
    },
    {
      "cell_type": "code",
      "metadata": {
        "id": "tw32hUKcYYr7",
        "colab_type": "code",
        "colab": {}
      },
      "source": [
        "import numpy as np\n",
        "import matplotlib.pyplot as plt\n",
        "from sklearn.linear_model import LinearRegression\n",
        "\n",
        "# metrics\n",
        "from sklearn.metrics import mean_absolute_error as mae_sklearn\n",
        "from sklearn.metrics import mean_squared_error as mse_sklearn\n",
        "from sklearn.metrics import r2_score as r2_sklearn\n",
        "from sklearn.metrics import mean_squared_log_error as msle_sklearn"
      ],
      "execution_count": 0,
      "outputs": []
    },
    {
      "cell_type": "code",
      "metadata": {
        "id": "v4d53RC6ezOv",
        "colab_type": "code",
        "outputId": "a1566ce6-95b9-4e9f-b1b8-d094f9c6a8fa",
        "colab": {
          "base_uri": "https://localhost:8080/",
          "height": 269
        }
      },
      "source": [
        "X = np.random.normal(size=250)\n",
        "bias = np.random.normal(0, 0.75, size=250)\n",
        "y = 2 * X + 5 + bias\n",
        "plt.scatter(X, y);"
      ],
      "execution_count": 0,
      "outputs": [
        {
          "output_type": "display_data",
          "data": {
            "image/png": "[encoded data removed]",
            "text/plain": [
              "<Figure size 432x288 with 1 Axes>"
            ]
          },
          "metadata": {
            "tags": []
          }
        }
      ]
    },
    {
      "cell_type": "code",
      "metadata": {
        "id": "a6ArThs2gHzI",
        "colab_type": "code",
        "outputId": "19aeddc4-e218-4e8c-cf8c-c9fe143f6757",
        "colab": {
          "base_uri": "https://localhost:8080/",
          "height": 269
        }
      },
      "source": [
        "line = np.arange(-3, 3, 0.01)\n",
        "regression = LinearRegression().fit(X.reshape(-1, 1), y)\n",
        "plt.scatter(X, y)\n",
        "plt.plot(line, regression.predict(line.reshape(-1, 1)), linestyle='--', c='k');"
      ],
      "execution_count": 0,
      "outputs": [
        {
          "output_type": "display_data",
          "data": {
            "image/png": "[encoded data removed]",
            "text/plain": [
              "<Figure size 432x288 with 1 Axes>"
            ]
          },
          "metadata": {
            "tags": []
          }
        }
      ]
    },
    {
      "cell_type": "code",
      "metadata": {
        "id": "_raJjLv9hTnQ",
        "colab_type": "code",
        "colab": {}
      },
      "source": [
        "X_test = np.random.normal(size=250)\n",
        "y_test = 2 * X + 5 + np.random.normal(0, 1, size=250)\n",
        "\n",
        "X = np.random.normal(size=250)\n",
        "y_pred = regression.predict(X_test.reshape(-1, 1))"
      ],
      "execution_count": 0,
      "outputs": []
    },
    {
      "cell_type": "markdown",
      "metadata": {
        "id": "LlBtGaU3Xmdk",
        "colab_type": "text"
      },
      "source": [
        "## Mean Absolute Error"
      ]
    },
    {
      "cell_type": "code",
      "metadata": {
        "id": "l4CQUe6UX-b0",
        "colab_type": "code",
        "colab": {}
      },
      "source": [
        "def mean_absolute_error(predictions, labels):\n",
        "\n",
        "    \"\"\"Calculate Mean Absolute Error between predictions and labels\n",
        "\n",
        "    Parameters:\n",
        "    ----------\n",
        "\n",
        "    predictions : array-like\n",
        "    The predictions of an estimator\n",
        "\n",
        "    labels : array-like\n",
        "    The true labels of data\n",
        "\n",
        "    Raise:\n",
        "    -----\n",
        "\n",
        "    ValueError: raise value error when the length of predictions and labels are not the same\n",
        "\n",
        "    \"\"\"\n",
        "\n",
        "\n",
        "    if len(predictions) == len(labels):\n",
        "        return np.sum(np.abs(predictions - labels)) / len(labels)\n",
        "    else:\n",
        "        raise ValueError(\"The length of predictions and labels are not the same\")"
      ],
      "execution_count": 0,
      "outputs": []
    },
    {
      "cell_type": "code",
      "metadata": {
        "id": "_N_WRTxnYfee",
        "colab_type": "code",
        "outputId": "aff0bb49-149e-4812-8f29-6e82889f6dc9",
        "colab": {
          "base_uri": "https://localhost:8080/",
          "height": 54
        }
      },
      "source": [
        "mae = mean_absolute_error(y_pred, y_test)\n",
        "sk_mae = mae_sklearn(y_test, y_pred)\n",
        "print(mae)\n",
        "print(sk_mae)"
      ],
      "execution_count": 0,
      "outputs": [
        {
          "output_type": "stream",
          "text": [
            "2.367915001555131\n",
            "2.367915001555131\n"
          ],
          "name": "stdout"
        }
      ]
    },
    {
      "cell_type": "markdown",
      "metadata": {
        "id": "d7wajYGTbVp7",
        "colab_type": "text"
      },
      "source": [
        "## Mean Absolute Percentage Error"
      ]
    },
    {
      "cell_type": "code",
      "metadata": {
        "id": "ldO5xU-8Zbh4",
        "colab_type": "code",
        "colab": {}
      },
      "source": [
        "def mean_absolute_percentage_error(predictions, labels):\n",
        "\n",
        "    \"\"\"Calculate Mean Absolute Percentage Error between predictions and labels.\n",
        "    It will be problematic if some elements inside labels are zero.\n",
        "\n",
        "    Parameters:\n",
        "    ----------\n",
        "\n",
        "    predictions : array-like\n",
        "    The predictions of an estimator\n",
        "\n",
        "    labels : array-like\n",
        "    The true labels of data\n",
        "\n",
        "    Raise:\n",
        "    -----\n",
        "\n",
        "    ValueError: get raised when the length of predictions and labels are not the same\n",
        "\n",
        "    ZeroDivisionError : get raised when some of the labels contain zero\n",
        "\n",
        "    \"\"\"\n",
        "\n",
        "\n",
        "    if len(predictions) == len(labels):\n",
        "        return np.sum(np.abs((labels - predictions) / labels)) * (100 / len(predictions))\n",
        "    else:\n",
        "        raise ValueError(\"The length of predictions and labels are not the same\")"
      ],
      "execution_count": 0,
      "outputs": []
    },
    {
      "cell_type": "markdown",
      "metadata": {
        "id": "LtRLI5R-dEXH",
        "colab_type": "text"
      },
      "source": [
        "## Mean Squared Error"
      ]
    },
    {
      "cell_type": "code",
      "metadata": {
        "id": "cORMERtbm97T",
        "colab_type": "code",
        "colab": {}
      },
      "source": [
        "def mean_squared_error(predictions, labels):\n",
        "\n",
        "    \"\"\"Calculate Mean Squared Error between predictions and labels.\n",
        "\n",
        "    Parameters:\n",
        "    ----------\n",
        "\n",
        "    predictions : array-like\n",
        "    The predictions of an estimator\n",
        "\n",
        "    labels : array-like\n",
        "    The true labels of data\n",
        "\n",
        "    Raise:\n",
        "    -----\n",
        "\n",
        "    ValueError: get raised when the length of predictions and labels are not the same\n",
        "\n",
        "    \"\"\"\n",
        "\n",
        "\n",
        "    if len(predictions) == len(labels):\n",
        "        return np.sum(np.power(labels - predictions, 2)) / len(predictions)\n",
        "    else:\n",
        "        raise ValueError(\"The length of predictions and labels are not the same\")"
      ],
      "execution_count": 0,
      "outputs": []
    },
    {
      "cell_type": "code",
      "metadata": {
        "id": "paQmRjQJn0M3",
        "colab_type": "code",
        "outputId": "1f316c73-70ad-4452-ad94-847aa3e87d8a",
        "colab": {
          "base_uri": "https://localhost:8080/",
          "height": 54
        }
      },
      "source": [
        "mse = mean_squared_error(y_pred, y_test)\n",
        "sk_mse = mse_sklearn(y_test, y_pred)\n",
        "print(mse)\n",
        "print(sk_mse)"
      ],
      "execution_count": 0,
      "outputs": [
        {
          "output_type": "stream",
          "text": [
            "9.158925854140378\n",
            "9.158925854140378\n"
          ],
          "name": "stdout"
        }
      ]
    },
    {
      "cell_type": "markdown",
      "metadata": {
        "id": "sUhpL8sZn6Z9",
        "colab_type": "text"
      },
      "source": [
        "## Root Mean Square Error"
      ]
    },
    {
      "cell_type": "code",
      "metadata": {
        "id": "VXBbJNZyr4F3",
        "colab_type": "code",
        "colab": {}
      },
      "source": [
        "def root_mean_square_error(predictions, labels):\n",
        "\n",
        "    \"\"\"Calculate Mean Squared Error between predictions and labels.\n",
        "\n",
        "    Parameters:\n",
        "    ----------\n",
        "\n",
        "    predictions : array-like\n",
        "    The predictions of an estimator\n",
        "\n",
        "    labels : array-like\n",
        "    The true labels of data\n",
        "\n",
        "    Raise:\n",
        "    -----\n",
        "\n",
        "    ValueError: get raised when the length of predictions and labels are not the same\n",
        "\n",
        "    \"\"\"\n",
        "    \n",
        "\n",
        "    if len(predictions) == len(labels):\n",
        "        return np.sqrt(np.sum(np.power(labels - predictions, 2)) / len(predictions))\n",
        "    else:\n",
        "        raise ValueError(\"The length of predictions and labels are not the same\")"
      ],
      "execution_count": 0,
      "outputs": []
    },
    {
      "cell_type": "code",
      "metadata": {
        "id": "mPVGM_VbshyC",
        "colab_type": "code",
        "outputId": "b929aa79-b5e0-4fd6-8539-b4d47e8de304",
        "colab": {
          "base_uri": "https://localhost:8080/",
          "height": 35
        }
      },
      "source": [
        "rmse = root_mean_square_error(y_pred, y_test)\n",
        "print(rmse)"
      ],
      "execution_count": 0,
      "outputs": [
        {
          "output_type": "stream",
          "text": [
            "3.026371730990821\n"
          ],
          "name": "stdout"
        }
      ]
    },
    {
      "cell_type": "markdown",
      "metadata": {
        "id": "jGuLWZ7xwBhN",
        "colab_type": "text"
      },
      "source": [
        "## R-Squared Score"
      ]
    },
    {
      "cell_type": "code",
      "metadata": {
        "id": "itBAifUawAkA",
        "colab_type": "code",
        "colab": {}
      },
      "source": [
        "def r2_score(predictions, labels):\n",
        "\n",
        "    \"\"\"Calculate R-Squared (Coefficients of Determination) between predictions and labels.\n",
        "\n",
        "    Parameters:\n",
        "    ----------\n",
        "\n",
        "    predictions : array-like\n",
        "    The predictions of an estimator\n",
        "\n",
        "    labels : array-like\n",
        "    The true labels of data\n",
        "\n",
        "    Raise:\n",
        "    -----\n",
        "\n",
        "    ValueError: get raised when the length of predictions and labels are not the same\n",
        "\n",
        "    \"\"\"\n",
        "    \n",
        "    \n",
        "    if len(predictions) == len(labels):\n",
        "        ybar = np.mean(labels)\n",
        "        sres = np.sum(np.power(labels - predictions, 2))\n",
        "        stot = np.sum(np.power(labels - ybar, 2))\n",
        "        return 1 - (sres / stot)\n",
        "    else:\n",
        "        raise ValueError(\"The length of predictions and labels are not the same\")"
      ],
      "execution_count": 0,
      "outputs": []
    },
    {
      "cell_type": "code",
      "metadata": {
        "id": "56LC4Xuqv89F",
        "colab_type": "code",
        "outputId": "805b1575-1aa6-473b-9ae8-4975e382934a",
        "colab": {
          "base_uri": "https://localhost:8080/",
          "height": 54
        }
      },
      "source": [
        "my_score = r2_score(y_pred, y_test)\n",
        "sk_score = r2_sklearn(y_test, y_pred)\n",
        "print(my_score)\n",
        "print(sk_score)"
      ],
      "execution_count": 0,
      "outputs": [
        {
          "output_type": "stream",
          "text": [
            "-0.6938048038710445\n",
            "-0.6938048038710445\n"
          ],
          "name": "stdout"
        }
      ]
    },
    {
      "cell_type": "markdown",
      "metadata": {
        "id": "lYA9xKzQJxGN",
        "colab_type": "text"
      },
      "source": [
        "## Adjusted R-Squared Score"
      ]
    },
    {
      "cell_type": "code",
      "metadata": {
        "id": "nxeWhtEYJx05",
        "colab_type": "code",
        "colab": {}
      },
      "source": [
        "def adjusted_r2_score(predictions, labels, num_features):\n",
        "\n",
        "    \"\"\"Calculate R-Squared (Coefficients of Determination) between predictions and labels.\n",
        "\n",
        "    Parameters:\n",
        "    ----------\n",
        "\n",
        "    predictions : array-like\n",
        "    The predictions of an estimator\n",
        "\n",
        "    labels : array-like\n",
        "    The true labels of data\n",
        "\n",
        "    Raise:\n",
        "    -----\n",
        "\n",
        "    ValueError: get raised when the length of predictions and labels are not the same\n",
        "\n",
        "    \"\"\"\n",
        "    \n",
        "\n",
        "    def r2_score(predictions, labels):\n",
        "        if len(predictions) == len(labels):\n",
        "            ybar = np.mean(labels)\n",
        "            sres = np.sum(np.power(labels - predictions, 2))\n",
        "            stot = np.sum(np.power(labels - ybar, 2))\n",
        "            return 1 - (sres / stot)\n",
        "        else:\n",
        "            raise ValueError(\"The length of predictions and labels are not the same\")\n",
        "\n",
        "    r2 = r2_score(predictions, labels)\n",
        "    n = len(predictions)\n",
        "    k = num_features\n",
        "    cons = (n - 1) / (n - (k + 1))\n",
        "    return 1 - (1 - r2)*cons"
      ],
      "execution_count": 0,
      "outputs": []
    },
    {
      "cell_type": "code",
      "metadata": {
        "id": "gaux-XytJvjp",
        "colab_type": "code",
        "outputId": "97341b66-c75b-4613-e7a9-8bb992c6423d",
        "colab": {
          "base_uri": "https://localhost:8080/",
          "height": 35
        }
      },
      "source": [
        "ajd_r2_score = adjusted_r2_score(y_pred, y_test, 1)\n",
        "print(ajd_r2_score)"
      ],
      "execution_count": 0,
      "outputs": [
        {
          "output_type": "stream",
          "text": [
            "-0.7006346619511699\n"
          ],
          "name": "stdout"
        }
      ]
    },
    {
      "cell_type": "markdown",
      "metadata": {
        "id": "Gc5rfSfKurXF",
        "colab_type": "text"
      },
      "source": [
        "## Mean Squared Logarithmic Error"
      ]
    },
    {
      "cell_type": "code",
      "metadata": {
        "id": "uGCSZ9dxutKC",
        "colab_type": "code",
        "colab": {}
      },
      "source": [
        "def mean_squared_log_error(predictions, labels):\n",
        "\n",
        "    \"\"\"Calculate Mean Squared Logarithmic Error between predictions and labels.\n",
        "\n",
        "    Parameters:\n",
        "    ----------\n",
        "\n",
        "    predictions : array-like\n",
        "    The predictions of an estimator\n",
        "\n",
        "    labels : array-like\n",
        "    The true labels of data\n",
        "\n",
        "    Raise:\n",
        "    -----\n",
        "\n",
        "    ValueError: \n",
        "        Get raised when the length of predictions and labels are not the same or \\\n",
        "        when the predictions or labels contain negative values.\n",
        "\n",
        "    \"\"\"\n",
        "\n",
        "    if len(predictions) == len(labels):\n",
        "        if (predictions < 0).any() or (labels < 0).any():\n",
        "            raise ValueError(\"Mean Squared Logarithmic Error cannot be used when targets contain negative values\")\n",
        "        else:\n",
        "            log_labels = np.log(1 + labels)\n",
        "            log_preds = np.log(1 + predictions)\n",
        "            return np.sum(np.power(log_labels - log_preds, 2)) / len(predictions)\n",
        "    else:\n",
        "        raise ValueError(\"The length of predictions and labels are not the same\")"
      ],
      "execution_count": 0,
      "outputs": []
    },
    {
      "cell_type": "code",
      "metadata": {
        "id": "AVF9YnpAusjf",
        "colab_type": "code",
        "colab": {}
      },
      "source": [
        "# my_error = mean_squared_log_error(y_pred, y_test)\n",
        "# sk_error = msle_sklearn(y_test, y_pred)"
      ],
      "execution_count": 0,
      "outputs": []
    },
    {
      "cell_type": "markdown",
      "metadata": {
        "id": "eXojnxmLvVyo",
        "colab_type": "text"
      },
      "source": [
        "## Max Error"
      ]
    },
    {
      "cell_type": "code",
      "metadata": {
        "id": "MZnVqO5tvaeF",
        "colab_type": "code",
        "colab": {}
      },
      "source": [
        "def max_error(predictions, labels):\n",
        "\n",
        "    \"\"\"Calculate the maximum residual error (absolute) between predictions and labels.\n",
        "\n",
        "    Parameters:\n",
        "    ----------\n",
        "\n",
        "    predictions : array-like\n",
        "    The predictions of an estimator\n",
        "\n",
        "    labels : array-like\n",
        "    The true labels of data\n",
        "\n",
        "    Raise:\n",
        "    -----\n",
        "\n",
        "    ValueError: get raised when the length of predictions and labels are not the same\n",
        "\n",
        "    \"\"\"\n",
        "\n",
        "    if len(predictions) == len(labels):\n",
        "        return np.max(np.abs(labels - predictions))\n",
        "    else:\n",
        "        raise ValueError(\"The length of predictions and labels are not the same\")\n"
      ],
      "execution_count": 0,
      "outputs": []
    },
    {
      "cell_type": "code",
      "metadata": {
        "id": "g597JZtGvbGe",
        "colab_type": "code",
        "outputId": "40b12ed8-7e1d-4dfd-95d7-5bd12fe6632c",
        "colab": {
          "base_uri": "https://localhost:8080/",
          "height": 35
        }
      },
      "source": [
        "error = max_error(y_pred, y_test)\n",
        "print(error)"
      ],
      "execution_count": 0,
      "outputs": [
        {
          "output_type": "stream",
          "text": [
            "12.025595716111106\n"
          ],
          "name": "stdout"
        }
      ]
    },
    {
      "cell_type": "markdown",
      "metadata": {
        "id": "7Uaq3O9Ss_vq",
        "colab_type": "text"
      },
      "source": [
        "---"
      ]
    }
  ]
}