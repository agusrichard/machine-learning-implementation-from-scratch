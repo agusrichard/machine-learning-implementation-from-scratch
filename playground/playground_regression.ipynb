{
 "nbformat": 4,
 "nbformat_minor": 0,
 "metadata": {
  "colab": {
   "name": "playground-regression.ipynb",
   "provenance": [],
   "collapsed_sections": []
  },
  "kernelspec": {
   "name": "python3",
   "display_name": "Python 3"
  }
 },
 "cells": [
  {
   "cell_type": "markdown",
   "metadata": {
    "id": "FrYBSQRBpPGf",
    "colab_type": "text"
   },
   "source": [
    "# Playground Linear Model"
   ]
  },
  {
   "cell_type": "markdown",
   "metadata": {
    "id": "rCQ_RH01pTl8",
    "colab_type": "text"
   },
   "source": [
    "### Import Libraries"
   ]
  },
  {
   "cell_type": "code",
   "metadata": {
    "id": "w89EdHX2kJTc",
    "colab_type": "code",
    "colab": {}
   },
   "source": [
    "import numpy as np\n",
    "import matplotlib.pyplot as plt"
   ],
   "execution_count": 0,
   "outputs": []
  },
  {
   "cell_type": "markdown",
   "metadata": {
    "id": "SUCszQvxpbl2",
    "colab_type": "text"
   },
   "source": [
    "### Functions & Classes"
   ]
  },
  {
   "cell_type": "code",
   "metadata": {
    "id": "aCLIzheNpcDk",
    "colab_type": "code",
    "colab": {}
   },
   "source": [
    "def train_test_split(*arrays, test_ratio=0.1, random_state=42):\n",
    "    \"\"\"Split the data onto train set and test set. The function shuffle the data \n",
    "    before splitting it\n",
    "\n",
    "    Parameters:\n",
    "    ----------\n",
    "\n",
    "    *arrays: array-like\n",
    "        Sequence of indexables with same length / shape[0]\n",
    "\n",
    "    test_ratio : float, between 0 and 1\n",
    "        Percentage of test set \n",
    "\n",
    "    random_state : integer\n",
    "        Random state seed\n",
    "\n",
    "    Returns:\n",
    "    -------\n",
    "\n",
    "    splitting : list, length=2 * len(arrays)\n",
    "        List containing train-test split of inputs.\n",
    "    \n",
    "    \"\"\"\n",
    "\n",
    "    np.random.seed(random_state)\n",
    "    index = np.random.permutation(np.arange(len(arrays[0])))\n",
    "    test_size = int(len(arrays[0])*test_ratio)\n",
    "\n",
    "    def wrapper():\n",
    "        for element in arrays:\n",
    "            test_index = index[:test_size]\n",
    "            train_index = index[test_size:]\n",
    "            test = element[test_index]\n",
    "            train = element[train_index]\n",
    "            yield train\n",
    "            yield test\n",
    "\n",
    "    return tuple(wrapper())\n",
    "\n",
    "class MinMaxScaler(object):\n",
    "    \"\"\" Scaling the data to between 0 and 1 \"\"\"\n",
    "\n",
    "    def __init__(self):\n",
    "        pass\n",
    "    \n",
    "    def fit(self, X):\n",
    "        self.min_ = X.min(axis=0)\n",
    "        self.max_ = X.max(axis=0)\n",
    "\n",
    "        return self\n",
    "\n",
    "    def transform(self, X):\n",
    "        diff_X = X - self.min_\n",
    "        diff_minmax = self.max_ - self.min_\n",
    "\n",
    "        return diff_X / diff_minmax\n",
    "    \n",
    "    def fit_transform(self, X):\n",
    "        self.fit(X)\n",
    "        return self.transform(X)\n",
    "\n",
    "\n",
    "class StandardScaler(object):\n",
    "    \"\"\" Standardize the data \"\"\"\n",
    "    \n",
    "    def __init__(self):\n",
    "        pass\n",
    "    \n",
    "    def fit(self, X):\n",
    "        self.mean_ = X.mean(axis=0)\n",
    "        self.stddev_ = X.std(axis=0)\n",
    "\n",
    "        return self\n",
    "\n",
    "    def transform(self, X):\n",
    "        diff_mean = X - self.mean_\n",
    "\n",
    "        return diff_mean / self.stddev_\n",
    "    \n",
    "    def fit_transform(self, X):\n",
    "        self.fit(X)\n",
    "        return self.transform(X)\n",
    "\n",
    "\n",
    "def make_batch_index(sample_size, num_batch, size, shuffle=False, random_state=42):\n",
    "    \"\"\"Make batch index for further batch making process\n",
    "\n",
    "    Parameters:\n",
    "    ----------\n",
    "\n",
    "    sample_size : integer \n",
    "        Sample size\n",
    "\n",
    "    num_batch : integer\n",
    "        Number of batch\n",
    "\n",
    "    size : integer\n",
    "        sample size will be created\n",
    "    \n",
    "    shuffle : boolean\n",
    "        If True, using permutation to create index.\n",
    "        If False, using arange to create index \n",
    "\n",
    "    random_state : integer\n",
    "        Random state seed\n",
    "\n",
    "    Returns:\n",
    "        Batch index\n",
    "    \n",
    "    \"\"\"\n",
    "\n",
    "\n",
    "    gen = np.random.RandomState(random_state)\n",
    "    if sample_size == size:\n",
    "        if shuffle:\n",
    "            index_batch = np.array_split(gen.permutation(sample_size), num_batch)\n",
    "        else:\n",
    "            index_batch = np.array_split(np.arange(sample_size), num_batch)\n",
    "    elif num_batch <= size:\n",
    "        index_batch = np.array_split(gen.randint(0, sample_size, size=size), num_batch)\n",
    "    else:\n",
    "        raise ValueError(\"Size must be higher than number of batch\")\n",
    "    \n",
    "    return index_batch\n",
    "\n",
    "\n",
    "def r2_score(predictions, labels):\n",
    "\n",
    "    \"\"\"Calculate R-Squared (Coefficients of Determination) between predictions and labels.\n",
    "\n",
    "    Parameters:\n",
    "    ----------\n",
    "\n",
    "    predictions : array-like\n",
    "    The predictions of an estimator\n",
    "\n",
    "    labels : array-like\n",
    "    The true labels of data\n",
    "\n",
    "    Raise:\n",
    "    -----\n",
    "\n",
    "    ValueError: get raised when the length of predictions and labels are not the same\n",
    "\n",
    "    \"\"\"\n",
    "    \n",
    "    \n",
    "    predictions = predictions.ravel()\n",
    "    labels = labels.ravel()\n",
    "    if len(predictions) == len(labels):\n",
    "        ybar = np.mean(labels)\n",
    "        sres = np.sum(np.power(labels - predictions, 2))\n",
    "        stot = np.sum(np.power(labels - ybar, 2))\n",
    "        return 1 - (sres / stot)\n",
    "    else:\n",
    "        raise ValueError(\"The length of predictions and labels are not the same\")\n",
    "\n",
    "\n",
    "def to_categorical(labels):\n",
    "\n",
    "    sample = len(labels)\n",
    "    cols = np.max(labels) + 1\n",
    "    result = np.zeros(shape=(sample, cols))\n",
    "    for i, row in enumerate(result):\n",
    "        row[labels[i]] = 1\n",
    "    \n",
    "    return result\n",
    "\n",
    "\n",
    "def accuracy_score(predictions, labels):\n",
    "\n",
    "    \"\"\"Calculate the accuracy score between predictions and labels. \\\n",
    "    The percentage of correct predictions.\n",
    "\n",
    "    Parameters:\n",
    "    ----------\n",
    "\n",
    "    predictions : array-like\n",
    "    The predictions of an estimator\n",
    "\n",
    "    labels : array-like\n",
    "    The true labels of data\n",
    "\n",
    "    Raise:\n",
    "    -----\n",
    "\n",
    "    ValueError: raise value error when the length of predictions and labels are not the same\n",
    "\n",
    "    \"\"\"\n",
    "\n",
    "    predictions = predictions.ravel()\n",
    "    labels = labels.ravel()\n",
    "    if len(predictions) == len(labels):\n",
    "        return np.sum(np.equal(predictions, labels)) / len(predictions)\n",
    "    else:\n",
    "        raise ValueError(\"The length of predictions and labels are not the same\")"
   ],
   "execution_count": 0,
   "outputs": []
  },
  {
   "cell_type": "markdown",
   "metadata": {
    "id": "V8OQwuFEpWq2",
    "colab_type": "text"
   },
   "source": [
    "### Dataset"
   ]
  },
  {
   "cell_type": "code",
   "metadata": {
    "id": "MLp-bAAqlYY2",
    "colab_type": "code",
    "colab": {}
   },
   "source": [
    "X_train = np.random.random(size=(500, 1)) + 5\n",
    "X_test = np.random.random(size=(500, 1)) + 5\n",
    "bias = np.random.normal(0, 0.21, size=(500, 1))\n",
    "y_train = 2 * X_train + 5 + bias\n",
    "y_test = 2 * X_test + 5 + bias"
   ],
   "execution_count": 0,
   "outputs": []
  },
  {
   "cell_type": "code",
   "metadata": {
    "id": "UkUIG9VAle-c",
    "colab_type": "code",
    "outputId": "778bf447-8b75-4e80-a67b-6fac6e7b349e",
    "colab": {
     "base_uri": "https://localhost:8080/",
     "height": 336
    }
   },
   "source": [
    "fig, axes = plt.subplots(1, 2, figsize=(10, 5))\n",
    "\n",
    "axes[0].scatter(X_train, y_train, c='g')\n",
    "axes[0].set_title(\"Training set\")\n",
    "axes[1].scatter(X_test, y_test, c='b')\n",
    "axes[1].set_title(\"Test set\");"
   ],
   "execution_count": 4,
   "outputs": [
    {
     "output_type": "display_data",
     "data": {
      "image/png": "[encoded data removed]",
      "text/plain": [
       "<Figure size 720x360 with 2 Axes>"
      ]
     },
     "metadata": {
      "tags": []
     }
    }
   ]
  },
  {
   "cell_type": "code",
   "metadata": {
    "id": "HS6zVxHeMpQ0",
    "colab_type": "code",
    "colab": {
     "base_uri": "https://localhost:8080/",
     "height": 269
    },
    "outputId": "e222545a-0969-45f9-ebbe-f8c0473119f3"
   },
   "source": [
    "from sklearn.datasets import make_blobs\n",
    "\n",
    "X_class, y_class = make_blobs(n_samples=500, centers=2, n_features=2, random_state=0)\n",
    "X_train_c, X_test_c, y_train_c, y_test_c = train_test_split(X_class, y_class)\n",
    "\n",
    "plt.scatter(X_class[:, 0], X_class[:, 1], c=y_class);"
   ],
   "execution_count": 5,
   "outputs": [
    {
     "output_type": "display_data",
     "data": {
      "image/png": "[encoded data removed]",
      "text/plain": [
       "<Figure size 432x288 with 1 Axes>"
      ]
     },
     "metadata": {
      "tags": []
     }
    }
   ]
  },
  {
   "cell_type": "markdown",
   "metadata": {
    "id": "RPEK1IRtphfF",
    "colab_type": "text"
   },
   "source": [
    "### Model to Compare"
   ]
  },
  {
   "cell_type": "code",
   "metadata": {
    "id": "c-CtN-nHliE1",
    "colab_type": "code",
    "outputId": "233ae96d-bfe7-49fe-99f3-2ef7a2071d4d",
    "colab": {
     "base_uri": "https://localhost:8080/",
     "height": 74
    }
   },
   "source": [
    "from sklearn.linear_model import LinearRegression, SGDRegressor, LogisticRegression\n",
    "lin_reg = LinearRegression().fit(X_train, y_train)\n",
    "sgr = SGDRegressor().fit(X_train, y_train)\n",
    "# logreg_s = LogisticRegression().fit(X_train, y_train)"
   ],
   "execution_count": 6,
   "outputs": [
    {
     "output_type": "stream",
     "text": [
      "/usr/local/lib/python3.6/dist-packages/sklearn/utils/validation.py:724: DataConversionWarning: A column-vector y was passed when a 1d array was expected. Please change the shape of y to (n_samples, ), for example using ravel().\n",
      "  y = column_or_1d(y, warn=True)\n"
     ],
     "name": "stderr"
    }
   ]
  },
  {
   "cell_type": "markdown",
   "metadata": {
    "id": "3Oqu9qSqpm31",
    "colab_type": "text"
   },
   "source": [
    "---"
   ]
  },
  {
   "cell_type": "markdown",
   "metadata": {
    "id": "QJedhsT8sgi1",
    "colab_type": "text"
   },
   "source": [
    "## Testing Site"
   ]
  },
  {
   "cell_type": "code",
   "metadata": {
    "id": "TCnptux8yn11",
    "colab_type": "code",
    "colab": {}
   },
   "source": [],
   "execution_count": 0,
   "outputs": []
  },
  {
   "cell_type": "markdown",
   "metadata": {
    "id": "ahevGd9EyHnI",
    "colab_type": "text"
   },
   "source": [
    "---"
   ]
  },
  {
   "cell_type": "markdown",
   "metadata": {
    "id": "SyY1aTizpnTv",
    "colab_type": "text"
   },
   "source": [
    "## L1 Regularization"
   ]
  },
  {
   "cell_type": "code",
   "metadata": {
    "id": "xYQy6AmIso-2",
    "colab_type": "code",
    "colab": {}
   },
   "source": [
    "class l1_regularization():\n",
    "\n",
    "    def __init__(self, alpha):\n",
    "        self.alpha = alpha\n",
    "\n",
    "    def __call__(self, w):\n",
    "        return self.alpha * np.linalg.norm(w, 1)\n",
    "\n",
    "    def grad(self, w):\n",
    "        return self.alpha * np.sign(w)"
   ],
   "execution_count": 0,
   "outputs": []
  },
  {
   "cell_type": "markdown",
   "metadata": {
    "id": "cRODpMh_3igo",
    "colab_type": "text"
   },
   "source": [
    "---"
   ]
  },
  {
   "cell_type": "markdown",
   "metadata": {
    "id": "rMN478jR3k3A",
    "colab_type": "text"
   },
   "source": [
    "## L2 Regularization"
   ]
  },
  {
   "cell_type": "code",
   "metadata": {
    "id": "ZAM3kc_73oFO",
    "colab_type": "code",
    "colab": {}
   },
   "source": [
    "class l2_regularization():\n",
    "\n",
    "    def __init__(self, alpha):\n",
    "        self.alpha = alpha\n",
    "\n",
    "    def __call__(self, w):\n",
    "        return self.alpha * np.linalg.norm(w, 2)\n",
    "\n",
    "    def grad(self, w):\n",
    "        return self.alpha * np.sum(w ** 2) * w"
   ],
   "execution_count": 0,
   "outputs": []
  },
  {
   "cell_type": "markdown",
   "metadata": {
    "id": "EKrAy3iP4VPe",
    "colab_type": "text"
   },
   "source": [
    "## L1 L2 Regularization"
   ]
  },
  {
   "cell_type": "code",
   "metadata": {
    "id": "U4eHbD-74YDo",
    "colab_type": "code",
    "colab": {}
   },
   "source": [
    "class l1_l2_regularization():\n",
    "\n",
    "    def __init__(self, alpha, l1_ratio):\n",
    "        self.alpha = alpha\n",
    "        self.l1_ratio = l1_ratio\n",
    "\n",
    "    def __call__(self, w):\n",
    "        l1_contrib = self.l1_ratio * np.linalg.norm(w, 1)\n",
    "        l2_contrib = (1 - self.l1_ratio) * np.linalg.norm(w, 2)\n",
    "\n",
    "        return self.alpha * (l1_contrib + l2_contrib)\n",
    "\n",
    "    def grad(self, w):\n",
    "        l1_contrib = self.l1_ratio * np.sign(w)\n",
    "        l2_contrib = (1 - self.l1_ratio) * np.sum(w ** 2) * w\n",
    "\n",
    "        return self.alpha * (l1_contrib + l2_contrib)"
   ],
   "execution_count": 0,
   "outputs": []
  },
  {
   "cell_type": "markdown",
   "metadata": {
    "id": "C12h9duo9LY4",
    "colab_type": "text"
   },
   "source": [
    "## Regression (Base)"
   ]
  },
  {
   "cell_type": "code",
   "metadata": {
    "id": "RfiMzkYA9Jw9",
    "colab_type": "code",
    "colab": {}
   },
   "source": [
    "import math\n",
    "\n",
    "class Regression(object):\n",
    "\n",
    "    def __init__(self):\n",
    "        pass\n",
    "\n",
    "    def predict(self, X):\n",
    "        X = np.c_[np.ones(X.shape[0]), X]\n",
    "\n",
    "        self._predictions = X.dot(self._weights)\n",
    "        return self._predictions\n",
    "\n",
    "    def score(self, X, y):\n",
    "        try:\n",
    "            predictions = self._predictions\n",
    "        except Exception:\n",
    "            predictions = self.predict(X)\n",
    "        labels = y\n",
    "\n",
    "        return r2_score(predictions, labels)"
   ],
   "execution_count": 0,
   "outputs": []
  },
  {
   "cell_type": "markdown",
   "metadata": {
    "id": "0u7FcLQg65wr",
    "colab_type": "text"
   },
   "source": [
    "## LinearRegression"
   ]
  },
  {
   "cell_type": "code",
   "metadata": {
    "id": "idP9Tab76974",
    "colab_type": "code",
    "colab": {}
   },
   "source": [
    "class LinearRegression(Regression):\n",
    "\n",
    "    def __init__(self, regularization=False, alpha=0.0001):\n",
    "        self.regularization = regularization\n",
    "        self.alpha = alpha\n",
    "\n",
    "    def fit(self, X, y):\n",
    "        X = np.c_[np.ones(X.shape[0]), X]\n",
    "        # Calculate weights by least squares (using Moore-Penrose pseudoinverse)\n",
    "        if self.regularization:\n",
    "            regularization_mat = np.eye(X.shape[1])\n",
    "            regularization_mat[0, 0] = 0\n",
    "            mat = X.T.dot(X) + regularization_mat\n",
    "            U, S, V = np.linalg.svd(mat)\n",
    "            S = np.diag(S)\n",
    "            X_sq_reg_inv = V.dot(np.linalg.pinv(S)).dot(U.T)\n",
    "            self._weights = X_sq_reg_inv.dot(X.T).dot(y)\n",
    "        else:\n",
    "            U, S, V = np.linalg.svd(X.T.dot(X))\n",
    "            S = np.diag(S)\n",
    "            X_sq_reg_inv = V.dot(np.linalg.pinv(S)).dot(U.T)\n",
    "            self._weights = X_sq_reg_inv.dot(X.T).dot(y)\n",
    "        \n",
    "        self.weights_ = self._weights.ravel()[1:]\n",
    "        self.bias_ = self._weights[0]\n",
    "        return self"
   ],
   "execution_count": 0,
   "outputs": []
  },
  {
   "cell_type": "code",
   "metadata": {
    "id": "1IIMCo76FWkw",
    "colab_type": "code",
    "outputId": "c503cb7e-ce12-447d-cce9-95c29527ffd0",
    "colab": {
     "base_uri": "https://localhost:8080/",
     "height": 54
    }
   },
   "source": [
    "full_batch_regressor = LinearRegression(regularization=True).fit(X_train, y_train)\n",
    "print(\"Regressor weights: \", full_batch_regressor.weights_)\n",
    "print(\"Regressor bias: \", full_batch_regressor.bias_)"
   ],
   "execution_count": 12,
   "outputs": [
    {
     "output_type": "stream",
     "text": [
      "Regressor weights:  [1.9600029]\n",
      "Regressor bias:  [5.20408375]\n"
     ],
     "name": "stdout"
    }
   ]
  },
  {
   "cell_type": "code",
   "metadata": {
    "id": "aGdelyyuFeNy",
    "colab_type": "code",
    "outputId": "87585ec6-ed20-44a0-878e-d94d52d51880",
    "colab": {
     "base_uri": "https://localhost:8080/",
     "height": 54
    }
   },
   "source": [
    "print(\"Sklearn LinearRegression R-Squared Score on test set: \", lin_reg.score(X_test, y_test))\n",
    "print(\"My FullBatchLinearRegression R-Squared Soore on test set: \", full_batch_regressor.score(X_test, y_test))"
   ],
   "execution_count": 13,
   "outputs": [
    {
     "output_type": "stream",
     "text": [
      "Sklearn LinearRegression R-Squared Score on test set:  0.8960901640988785\n",
      "My FullBatchLinearRegression R-Squared Soore on test set:  0.8959272049498727\n"
     ],
     "name": "stdout"
    }
   ]
  },
  {
   "cell_type": "markdown",
   "metadata": {
    "id": "qnjLs0V7SETg",
    "colab_type": "text"
   },
   "source": [
    "## BatchGDRegressor"
   ]
  },
  {
   "cell_type": "code",
   "metadata": {
    "id": "m0mJ7rW9SDRK",
    "colab_type": "code",
    "colab": {}
   },
   "source": [
    "class BatchGDRegressor(Regression):\n",
    "\n",
    "    def __init__(self, num_batch=None, iterations=10000, learning_rate=0.001, penalty=None, alpha=0.0001, l1_ratio=0.15):\n",
    "        self.num_batch = num_batch\n",
    "        self.iterations = iterations\n",
    "        self.learning_rate = learning_rate\n",
    "        self.penalty = penalty\n",
    "        self.alpha = alpha\n",
    "        self.l1_ratio = l1_ratio\n",
    "        if penalty == 'l1':\n",
    "            self._regularization = l1_regularization(alpha=self.alpha)\n",
    "        elif penalty == 'l2':\n",
    "            self._regularization = l2_regularization(alpha=self.alpha)\n",
    "        elif penalty == 'elasticnet':\n",
    "            self._regularization = l1_l2_regularization(alpha=self.alpha, l1_ratio=self.l1_ratio)\n",
    "        elif penalty == None:\n",
    "            self._regularization = lambda x: 0\n",
    "            self._regularization.grad = lambda x: 0\n",
    "\n",
    "    def _weights_init(self, n_features):\n",
    "        lim = 1 / math.sqrt(n_features)\n",
    "        self._weights = np.random.uniform(-lim, lim, size=(n_features, 1))\n",
    "\n",
    "    def _calc_loss(self, y_pred, y_train):\n",
    "        return 0.5 * np.mean((y_pred - y_train)**2)\n",
    "\n",
    "    def _calc_gradient(self, X, y_pred, y_train):\n",
    "        return X.T.dot(y_pred - y_train)\n",
    "        \n",
    "    def fit(self, X, y):\n",
    "        if self.num_batch == None:\n",
    "            self.num_batch = int(X.shape[0] / 20)\n",
    "        X = np.c_[np.ones(X.shape[0]), X]\n",
    "        y = y.reshape(-1, 1)\n",
    "        self.loss_vals_ = []\n",
    "        self._weights_init(X.shape[1])\n",
    "        percentage = 0 \n",
    "\n",
    "        for i in range(self.iterations):\n",
    "            batch_index = make_batch_index(sample_size=X.shape[0], num_batch=self.num_batch, \n",
    "                                            size=X.shape[0], shuffle=True, random_state=42)\n",
    " \n",
    "            for batch in batch_index:\n",
    "                batch_X = X[batch]\n",
    "                batch_y = y[batch]\n",
    "\n",
    "                y_pred = batch_X.dot(self._weights)\n",
    "                loss_val = self._calc_loss(y_pred, batch_y) + self._regularization(self._weights)\n",
    "                self.loss_vals_.append(loss_val)\n",
    "                gradient = self._calc_gradient(batch_X, y_pred, batch_y) + self._regularization.grad(self._weights)\n",
    "                self._weights -= (self.learning_rate * gradient)\n",
    "                \n",
    "            if i % (self.iterations/100) == 0:\n",
    "                print(\"\\rProcess {}%, loss_val: {}\".format(percentage, loss_val), end='')\n",
    "                percentage += 1\n",
    "        print(\"\\rProcess 100%, loss_val: {}\".format(loss_val), end='')\n",
    "        \n",
    "        self.weights_ = self._weights.ravel()[1:]\n",
    "        self.bias_ = self._weights[0]\n",
    "        self.loss_vals_ = np.array(self.loss_vals_)\n",
    "\n",
    "        return self"
   ],
   "execution_count": 0,
   "outputs": []
  },
  {
   "cell_type": "code",
   "metadata": {
    "id": "qoH2W4rVDrIm",
    "colab_type": "code",
    "outputId": "42cd3c7a-8d68-4a2f-9e39-20e3251e32dd",
    "colab": {
     "base_uri": "https://localhost:8080/",
     "height": 35
    }
   },
   "source": [
    "mini_batch_sgr = BatchGDRegressor().fit(X_train, y_train)"
   ],
   "execution_count": 15,
   "outputs": [
    {
     "output_type": "stream",
     "text": [
      "Process 100%, loss_val: 0.015260820039008074"
     ],
     "name": "stdout"
    }
   ]
  },
  {
   "cell_type": "code",
   "metadata": {
    "id": "w4xkVag95gMI",
    "colab_type": "code",
    "outputId": "83f577cb-a233-47bd-9391-1ecee3b7f28a",
    "colab": {
     "base_uri": "https://localhost:8080/",
     "height": 35
    }
   },
   "source": [
    "print(\"BatchGDRegressor score: \", mini_batch_sgr.score(X_test, y_test))"
   ],
   "execution_count": 16,
   "outputs": [
    {
     "output_type": "stream",
     "text": [
      "BatchGDRegressor score:  0.8960306354692906\n"
     ],
     "name": "stdout"
    }
   ]
  },
  {
   "cell_type": "code",
   "metadata": {
    "id": "G8SVIihe8Jfm",
    "colab_type": "code",
    "outputId": "fb70b44b-9abb-4e54-c2e6-523818db0d07",
    "colab": {
     "base_uri": "https://localhost:8080/",
     "height": 54
    }
   },
   "source": [
    "print(\"BatchGDRegressor bias: \", mini_batch_sgr.bias_)\n",
    "print(\"BatchGDRegressor weights: \", mini_batch_sgr.weights_)"
   ],
   "execution_count": 17,
   "outputs": [
    {
     "output_type": "stream",
     "text": [
      "BatchGDRegressor bias:  [4.961956]\n",
      "BatchGDRegressor weights:  [2.00307469]\n"
     ],
     "name": "stdout"
    }
   ]
  },
  {
   "cell_type": "markdown",
   "metadata": {
    "id": "9wg-P2d8j35M",
    "colab_type": "text"
   },
   "source": [
    "## RidgeRegression"
   ]
  },
  {
   "cell_type": "code",
   "metadata": {
    "id": "9q9BuuY3j9Pl",
    "colab_type": "code",
    "colab": {}
   },
   "source": [
    "class RidgeRegression(BatchGDRegressor):\n",
    "\n",
    "    def __init__(self, num_batch=None, iterations=10000, learning_rate=0.001, alpha=0.0001):\n",
    "        super().__init__(num_batch=num_batch,\n",
    "                         iterations=iterations,\n",
    "                         learning_rate=learning_rate,\n",
    "                         penalty='l2',\n",
    "                         alpha=alpha,\n",
    "                         l1_ratio=None)\n",
    "        \n",
    "    def fit(self, X, y):\n",
    "        super().fit(X, y)\n",
    "\n",
    "        return self\n"
   ],
   "execution_count": 0,
   "outputs": []
  },
  {
   "cell_type": "code",
   "metadata": {
    "id": "8SSTh0sokFmJ",
    "colab_type": "code",
    "outputId": "500de202-161d-49ff-d7be-8f94e33d9cfc",
    "colab": {
     "base_uri": "https://localhost:8080/",
     "height": 35
    }
   },
   "source": [
    "ridge_regressor = RidgeRegression().fit(X_train, y_train)"
   ],
   "execution_count": 19,
   "outputs": [
    {
     "output_type": "stream",
     "text": [
      "Process 100%, loss_val: 0.016366715323441756"
     ],
     "name": "stdout"
    }
   ]
  },
  {
   "cell_type": "code",
   "metadata": {
    "id": "5sH8byiNnZ3R",
    "colab_type": "code",
    "outputId": "2868f9a6-7610-437e-9074-dbfa083905ac",
    "colab": {
     "base_uri": "https://localhost:8080/",
     "height": 35
    }
   },
   "source": [
    "print(\"RidgeRegression score: \", ridge_regressor.score(X_train, y_train))"
   ],
   "execution_count": 20,
   "outputs": [
    {
     "output_type": "stream",
     "text": [
      "RidgeRegression score:  0.8995603733475355\n"
     ],
     "name": "stdout"
    }
   ]
  },
  {
   "cell_type": "markdown",
   "metadata": {
    "id": "_4_ro6iWsvq5",
    "colab_type": "text"
   },
   "source": [
    "## LassoRegression"
   ]
  },
  {
   "cell_type": "code",
   "metadata": {
    "id": "TeeN49B6sxr3",
    "colab_type": "code",
    "colab": {}
   },
   "source": [
    "class LassoRegression(BatchGDRegressor):\n",
    "\n",
    "    def __init__(self, num_batch=None, iterations=10000, learning_rate=0.001, alpha=0.0001):\n",
    "        super().__init__(num_batch=num_batch,\n",
    "                         iterations=iterations,\n",
    "                         learning_rate=learning_rate,\n",
    "                         penalty='l1',\n",
    "                         alpha=alpha,\n",
    "                         l1_ratio=None)\n",
    "        \n",
    "    def fit(self, X, y):\n",
    "        super().fit(X, y)\n",
    "\n",
    "        return self\n"
   ],
   "execution_count": 0,
   "outputs": []
  },
  {
   "cell_type": "code",
   "metadata": {
    "id": "q23ir24Os8Jo",
    "colab_type": "code",
    "outputId": "ba8dc887-ddd2-479a-bcfc-9dc8e55dd8da",
    "colab": {
     "base_uri": "https://localhost:8080/",
     "height": 35
    }
   },
   "source": [
    "lasso_regressor = LassoRegression().fit(X_train, y_train)"
   ],
   "execution_count": 22,
   "outputs": [
    {
     "output_type": "stream",
     "text": [
      "Process 100%, loss_val: 0.015960715611541314"
     ],
     "name": "stdout"
    }
   ]
  },
  {
   "cell_type": "code",
   "metadata": {
    "id": "g9uIRR01tAl_",
    "colab_type": "code",
    "outputId": "60f65786-e85f-4a73-88dc-62d46506d049",
    "colab": {
     "base_uri": "https://localhost:8080/",
     "height": 35
    }
   },
   "source": [
    "print(\"LassoRegression score: \", lasso_regressor.score(X_test, y_test))"
   ],
   "execution_count": 23,
   "outputs": [
    {
     "output_type": "stream",
     "text": [
      "LassoRegression score:  0.8960289902050296\n"
     ],
     "name": "stdout"
    }
   ]
  },
  {
   "cell_type": "markdown",
   "metadata": {
    "id": "EBLCdqyetISJ",
    "colab_type": "text"
   },
   "source": [
    "\n",
    "## ElasticNet"
   ]
  },
  {
   "cell_type": "code",
   "metadata": {
    "id": "NEKXX_SGtNsv",
    "colab_type": "code",
    "colab": {}
   },
   "source": [
    "class ElasticNetRegression(BatchGDRegressor):\n",
    "\n",
    "    def __init__(self, num_batch=None, iterations=10000, learning_rate=0.001, alpha=0.0001, l1_ratio=0.15):\n",
    "        super().__init__(num_batch=num_batch,\n",
    "                         iterations=iterations,\n",
    "                         learning_rate=learning_rate,\n",
    "                         penalty='elasticnet',\n",
    "                         alpha=alpha,\n",
    "                         l1_ratio=0.15)\n",
    "        \n",
    "    def fit(self, X, y):\n",
    "        super().fit(X, y)\n",
    "\n",
    "        return self\n"
   ],
   "execution_count": 0,
   "outputs": []
  },
  {
   "cell_type": "code",
   "metadata": {
    "id": "w9f5nSHNuF-f",
    "colab_type": "code",
    "outputId": "c7cededa-b7a9-4af2-a189-41b96d50010d",
    "colab": {
     "base_uri": "https://localhost:8080/",
     "height": 35
    }
   },
   "source": [
    "elasticnet_regressor = ElasticNetRegression().fit(X_train, y_train)"
   ],
   "execution_count": 25,
   "outputs": [
    {
     "output_type": "stream",
     "text": [
      "Process 100%, loss_val: 0.01630438111587446"
     ],
     "name": "stdout"
    }
   ]
  },
  {
   "cell_type": "code",
   "metadata": {
    "id": "ewWghsfZuMC7",
    "colab_type": "code",
    "outputId": "7a3a77f5-a4a6-4707-d0c6-149164892756",
    "colab": {
     "base_uri": "https://localhost:8080/",
     "height": 35
    }
   },
   "source": [
    "print(\"ElasticNetRegression score: \", elasticnet_regressor.score(X_test, y_test))"
   ],
   "execution_count": 26,
   "outputs": [
    {
     "output_type": "stream",
     "text": [
      "ElasticNetRegression score:  0.8955858477111213\n"
     ],
     "name": "stdout"
    }
   ]
  },
  {
   "cell_type": "markdown",
   "metadata": {
    "id": "Ck9jzLfkuqhm",
    "colab_type": "text"
   },
   "source": [
    "## StochasticGDRegressor"
   ]
  },
  {
   "cell_type": "code",
   "metadata": {
    "id": "PSCjZ4JLuu_F",
    "colab_type": "code",
    "colab": {}
   },
   "source": [
    "class StochasticGDRegressor(BatchGDRegressor):\n",
    "\n",
    "    def __init__(self, iterations=1000, learning_rate=0.001, penalty=None, alpha=0.0001, l1_ratio=0.15):\n",
    "        super().__init__(num_batch=None,\n",
    "                         iterations=iterations,\n",
    "                         learning_rate=learning_rate,\n",
    "                         penalty=penalty,\n",
    "                         alpha=alpha,\n",
    "                         l1_ratio=l1_ratio)\n",
    "        \n",
    "    def fit(self, X, y):\n",
    "        self.num_batch = X.shape[0]\n",
    "        super().fit(X, y)\n",
    "\n",
    "        return self\n"
   ],
   "execution_count": 0,
   "outputs": []
  },
  {
   "cell_type": "code",
   "metadata": {
    "id": "zY2FZmgaBivY",
    "colab_type": "code",
    "outputId": "360678e1-b517-4b17-d298-ac8fa74a84d3",
    "colab": {
     "base_uri": "https://localhost:8080/",
     "height": 35
    }
   },
   "source": [
    "sgr = StochasticGDRegressor().fit(X_train, y_train)"
   ],
   "execution_count": 28,
   "outputs": [
    {
     "output_type": "stream",
     "text": [
      "Process 100%, loss_val: 0.012480079754125796"
     ],
     "name": "stdout"
    }
   ]
  },
  {
   "cell_type": "code",
   "metadata": {
    "id": "-PItNUPIBuOC",
    "colab_type": "code",
    "outputId": "5cdd3edb-3941-4028-a7f4-08f4de30e3ec",
    "colab": {
     "base_uri": "https://localhost:8080/",
     "height": 35
    }
   },
   "source": [
    "print(\"StochasticGDRegressor score: \", sgr.score(X_test, y_test))"
   ],
   "execution_count": 29,
   "outputs": [
    {
     "output_type": "stream",
     "text": [
      "StochasticGDRegressor score:  0.8866574014728177\n"
     ],
     "name": "stdout"
    }
   ]
  },
  {
   "cell_type": "markdown",
   "metadata": {
    "id": "T720vr_WclrO",
    "colab_type": "text"
   },
   "source": [
    "## StochasticGDClassifier"
   ]
  },
  {
   "cell_type": "code",
   "metadata": {
    "id": "GPfVFE5KcplY",
    "colab_type": "code",
    "colab": {}
   },
   "source": [
    "class SekardayuHanaPradiani():\n",
    "\n",
    "    def __init__(self, activation='sigmoid', num_batch=None, iterations=1000, learning_rate=0.001, penalty=None, alpha=0.0001, l1_ratio=0.15):\n",
    "        self.activation = activation\n",
    "        self.num_batch = num_batch\n",
    "        self.iterations = iterations\n",
    "        self.learning_rate = learning_rate\n",
    "        self.penalty = penalty\n",
    "        self.alpha = alpha\n",
    "        self.l1_ratio = l1_ratio\n",
    "        if penalty == 'l1':\n",
    "            self._regularization = l1_regularization(alpha=self.alpha)\n",
    "        elif penalty == 'l2':\n",
    "            self._regularization = l2_regularization(alpha=self.alpha)\n",
    "        elif penalty == 'elasticnet':\n",
    "            self._regularization = l1_l2_regularization(alpha=self.alpha, l1_ratio=self.l1_ratio)\n",
    "        elif penalty == None:\n",
    "            self._regularization = lambda x: 0\n",
    "            self._regularization.grad = lambda x: 0\n",
    "\n",
    "    def _weights_init(self, n_features, n_labels):\n",
    "        lim = 1 / math.sqrt(n_features)\n",
    "        self._weights = np.random.uniform(-lim, lim, size=(n_features, n_labels))\n",
    "\n",
    "    def _activation_sigmoid(self, X, weights):\n",
    "        z = X.dot(weights)\n",
    "        return 1/(1+np.exp(-z))\n",
    "\n",
    "    def _activation_softmax(self, X, weights):\n",
    "        z = X.dot(weights)\n",
    "        summa = np.sum(np.exp(z))\n",
    "        return np.exp(z) / summa\n",
    "\n",
    "    def _activation_tanh(self, X, weights):\n",
    "        z = X.dot(weights)\n",
    "        return (np.tanh(z) + 1) / 2\n",
    "\n",
    "    def _activation_relu(self, X, weights):\n",
    "        z = X.dot(weights)\n",
    "        return np.maximum(0, z)\n",
    "    \n",
    "    def _calc_gradient(self, X, y_pred, y_train):\n",
    "        result = X.T.dot(y_pred - y_train)\n",
    "        return result\n",
    "\n",
    "    def _calc_loss(self, y_pred, y_train):\n",
    "        return np.mean(-(y_train * np.log(y_pred) + (1 - y_train) * np.log(1 - y_pred)))\n",
    "\n",
    "    def fit(self, X, y):\n",
    "        if self.num_batch == None:\n",
    "            self.num_batch = int(X.shape[0] / 20)\n",
    "        X = np.c_[np.ones(X.shape[0]), X]\n",
    "        y = to_categorical(y)\n",
    "        self.loss_vals_ = []\n",
    "        self._weights_init(X.shape[1], y.shape[1])\n",
    "        percentage = 0 \n",
    "\n",
    "        for i in range(self.iterations):\n",
    "            batch_index = make_batch_index(sample_size=X.shape[0], num_batch=self.num_batch, \n",
    "                                            size=X.shape[0], shuffle=True, random_state=42)\n",
    "            \n",
    "            for batch in batch_index:\n",
    "                batch_X = X[batch]\n",
    "                batch_y = y[batch]\n",
    "\n",
    "                if self.activation == 'sigmoid':\n",
    "                    y_pred = self._activation_sigmoid(batch_X, self._weights)\n",
    "                elif self.activation == 'softmax':\n",
    "                    y_pred = self._activation_softmax(batch_X, self._weights)\n",
    "                elif self.activation == 'tanh':\n",
    "                    y_pred = self._activation_tanh(batch_X, self._weights)\n",
    "                elif self.activation == 'relu':\n",
    "                    y_pred = self._activation_relu(batch_X, self._weights)\n",
    "                else:\n",
    "                    raise ValueError(\"Unknown activation hyperparameter\")\n",
    "                loss_val = self._calc_loss(y_pred, batch_y) + self._regularization(self._weights)\n",
    "                self.loss_vals_.append(loss_val)\n",
    "                gradient = self._calc_gradient(batch_X, y_pred, batch_y) + self._regularization(self._weights)\n",
    "                self._weights -= (self.learning_rate * gradient)\n",
    "\n",
    "            if i % (self.iterations/100) == 0:\n",
    "                print(\"\\rProcess {}%\".format(percentage), end='')\n",
    "                percentage += 1\n",
    "        print(\"\\rProcess 100%\", end='')\n",
    "        \n",
    "        self.loss_vals_ = np.array(self.loss_vals_)\n",
    "\n",
    "        return self\n",
    "\n",
    "    def predict(self, X):\n",
    "        X = np.c_[np.ones(X.shape[0]), X]\n",
    "        if self.activation == 'sigmoid':\n",
    "            predict_proba = self._activation_sigmoid(X, self._weights)\n",
    "        elif self.activation == 'softmax':\n",
    "            predict_proba = self._activation_softmax(X, self._weights)\n",
    "        elif self.activation == 'tanh':\n",
    "            predict_proba = self._activation_tanh(X, self._weights)\n",
    "        elif self.activation == 'relu':\n",
    "            predict_proba = self._activation_relu(X, self._weights)\n",
    "        else:\n",
    "            raise ValueError(\"Unknown activation hyperparameter\")\n",
    "\n",
    "        self._predictions = np.argmax(predict_proba, 1)\n",
    "        return self._predictions, predict_proba\n",
    "\n",
    "    def score(self, X, y):\n",
    "        try:\n",
    "            predictions = self._predictions\n",
    "        except Exception:\n",
    "            predictions, _ = self.predict(X)\n",
    "        labels = y\n",
    "\n",
    "        return accuracy_score(predictions, labels)\n"
   ],
   "execution_count": 0,
   "outputs": []
  },
  {
   "cell_type": "code",
   "metadata": {
    "id": "JvBD277ueKmz",
    "colab_type": "code",
    "colab": {
     "base_uri": "https://localhost:8080/",
     "height": 35
    },
    "outputId": "8b5e5246-3cfc-4b63-e36b-09491d0eff67"
   },
   "source": [
    "classifier = SekardayuHanaPradiani(activation='tanh').fit(X_train_c, y_train_c)"
   ],
   "execution_count": 31,
   "outputs": [
    {
     "output_type": "stream",
     "text": [
      "Process 100%"
     ],
     "name": "stdout"
    }
   ]
  },
  {
   "cell_type": "code",
   "metadata": {
    "id": "Xwfy0RoEeXrQ",
    "colab_type": "code",
    "colab": {
     "base_uri": "https://localhost:8080/",
     "height": 35
    },
    "outputId": "66c7841a-f797-4d10-87e4-09b7fe3d61e2"
   },
   "source": [
    "classifier.score(X_test_c, y_test_c)"
   ],
   "execution_count": 32,
   "outputs": [
    {
     "output_type": "execute_result",
     "data": {
      "text/plain": [
       "0.94"
      ]
     },
     "metadata": {
      "tags": []
     },
     "execution_count": 32
    }
   ]
  },
  {
   "cell_type": "markdown",
   "metadata": {
    "id": "JKEHBdu6mFfq",
    "colab_type": "text"
   },
   "source": [
    "## LogisticRegression"
   ]
  },
  {
   "cell_type": "code",
   "metadata": {
    "id": "hAu70ngXmHwU",
    "colab_type": "code",
    "colab": {}
   },
   "source": [
    "class LogisticRegression():\n",
    "\n",
    "    def __init__(self, num_batch=None, iterations=1000, learning_rate=0.001, penalty=None, alpha=0.0001, l1_ratio=0.15):\n",
    "        self.num_batch = num_batch\n",
    "        self.iterations = iterations\n",
    "        self.learning_rate = learning_rate\n",
    "        self.penalty = penalty\n",
    "        self.alpha = alpha\n",
    "        self.l1_ratio = l1_ratio\n",
    "        if penalty == 'l1':\n",
    "            self._regularization = l1_regularization(alpha=self.alpha)\n",
    "        elif penalty == 'l2':\n",
    "            self._regularization = l2_regularization(alpha=self.alpha)\n",
    "        elif penalty == 'elasticnet':\n",
    "            self._regularization = l1_l2_regularization(alpha=self.alpha, l1_ratio=self.l1_ratio)\n",
    "        elif penalty == None:\n",
    "            self._regularization = lambda x: 0\n",
    "            self._regularization.grad = lambda x: 0\n",
    "\n",
    "    def _weights_init(self, n_features, n_labels):\n",
    "        lim = 1 / math.sqrt(n_features)\n",
    "        self._weights = np.random.uniform(-lim, lim, size=(n_features, n_labels))\n",
    "\n",
    "    def _calc_sigmoid(self, X, weights):\n",
    "        z = X.dot(weights)\n",
    "        return 1/(1+np.exp(-z))\n",
    "    \n",
    "    def _calc_gradient(self, X, y_pred, y_train):\n",
    "        result = X.T.dot(y_pred - y_train)\n",
    "        return result\n",
    "\n",
    "    def _calc_loss(self, y_pred, y_train):\n",
    "        return np.mean(-(y_train * np.log(y_pred) + (1 - y_train) * np.log(1 - y_pred)), 0)\n",
    "\n",
    "    def fit(self, X, y):\n",
    "        if self.num_batch == None:\n",
    "            self.num_batch = int(X.shape[0] / 20)\n",
    "        X = np.c_[np.ones(X.shape[0]), X]\n",
    "        y = to_categorical(y)\n",
    "        self.loss_vals_ = []\n",
    "        self._weights_init(X.shape[1], y.shape[1])\n",
    "        percentage = 0 \n",
    "\n",
    "        for i in range(self.iterations):\n",
    "            batch_index = make_batch_index(sample_size=X.shape[0], num_batch=self.num_batch, \n",
    "                                            size=X.shape[0], shuffle=True, random_state=42)\n",
    "            \n",
    "            for batch in batch_index:\n",
    "                batch_X = X[batch]\n",
    "                batch_y = y[batch]\n",
    "\n",
    "                y_pred = self._calc_sigmoid(batch_X, self._weights)\n",
    "                loss_val = self._calc_loss(y_pred, batch_y) + self._regularization(self._weights)\n",
    "                self.loss_vals_.append(loss_val)\n",
    "                gradient = self._calc_gradient(batch_X, y_pred, batch_y) + self._regularization(self._weights)\n",
    "                self._weights -= (self.learning_rate * gradient)\n",
    "\n",
    "            if i % (self.iterations/100) == 0:\n",
    "                print(\"\\rProcess {}%\".format(percentage), end='')\n",
    "                percentage += 1\n",
    "        print(\"\\rProcess 100%\", end='')\n",
    "        \n",
    "        self.loss_vals_ = np.array(self.loss_vals_)\n",
    "\n",
    "        return self\n",
    "\n",
    "    def predict(self, X):\n",
    "        X = np.c_[np.ones(X.shape[0]), X]\n",
    "        predict_proba = self._calc_sigmoid(X, self._weights)\n",
    "\n",
    "        self._predictions = np.argmax(predict_proba, 1)\n",
    "        return self._predictions, predict_proba\n",
    "\n",
    "    def score(self, X, y):\n",
    "        try:\n",
    "            predictions = self._predictions\n",
    "        except Exception:\n",
    "            predictions, _ = self.predict(X)\n",
    "        labels = y\n",
    "\n",
    "        return accuracy_score(predictions, labels)\n"
   ],
   "execution_count": 0,
   "outputs": []
  },
  {
   "cell_type": "code",
   "metadata": {
    "id": "CVVlomVzMiiN",
    "colab_type": "code",
    "colab": {
     "base_uri": "https://localhost:8080/",
     "height": 35
    },
    "outputId": "d8882777-c47e-46bc-d298-659d926ac414"
   },
   "source": [
    "logreg = LogisticRegression().fit(X_train_c, y_train_c)"
   ],
   "execution_count": 34,
   "outputs": [
    {
     "output_type": "stream",
     "text": [
      "Process 100%"
     ],
     "name": "stdout"
    }
   ]
  },
  {
   "cell_type": "code",
   "metadata": {
    "id": "N6M86cmESKFF",
    "colab_type": "code",
    "colab": {
     "base_uri": "https://localhost:8080/",
     "height": 35
    },
    "outputId": "6737b9c1-9b94-4ce4-c66b-0a4c9a6f1b4c"
   },
   "source": [
    "logreg.score(X_test_c, y_test_c)"
   ],
   "execution_count": 35,
   "outputs": [
    {
     "output_type": "execute_result",
     "data": {
      "text/plain": [
       "0.96"
      ]
     },
     "metadata": {
      "tags": []
     },
     "execution_count": 35
    }
   ]
  }
 ]
}
