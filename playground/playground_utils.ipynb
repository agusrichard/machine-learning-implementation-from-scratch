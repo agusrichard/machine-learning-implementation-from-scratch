{
  "nbformat": 4,
  "nbformat_minor": 0,
  "metadata": {
    "colab": {
      "name": "playground-utils.ipynb",
      "provenance": [],
      "collapsed_sections": []
    },
    "kernelspec": {
      "name": "python3",
      "display_name": "Python 3"
    }
  },
  "cells": [
    {
      "cell_type": "markdown",
      "metadata": {
        "id": "1jgzJbuiNwnL",
        "colab_type": "text"
      },
      "source": [
        "# Playground for Utility"
      ]
    },
    {
      "cell_type": "code",
      "metadata": {
        "id": "IMncDA_3OEtW",
        "colab_type": "code",
        "colab": {}
      },
      "source": [
        "import numpy as np"
      ],
      "execution_count": 0,
      "outputs": []
    },
    {
      "cell_type": "markdown",
      "metadata": {
        "id": "aF5uhs_6grCM",
        "colab_type": "text"
      },
      "source": [
        "## train_test_split"
      ]
    },
    {
      "cell_type": "code",
      "metadata": {
        "id": "2Cujqu9Mho18",
        "colab_type": "code",
        "colab": {}
      },
      "source": [
        "def train_test_split(*arrays, test_ratio=0.1, random_state=42):\n",
        "    \"\"\"Split the data onto train set and test set. The function shuffle the data \n",
        "    before splitting it\n",
        "\n",
        "    Parameters:\n",
        "    ----------\n",
        "\n",
        "    *arrays: array-like\n",
        "        Sequence of indexables with same length / shape[0]\n",
        "\n",
        "    test_ratio : float, between 0 and 1\n",
        "        Percentage of test set \n",
        "\n",
        "    random_state : integer\n",
        "        Random state seed\n",
        "\n",
        "    Returns:\n",
        "    -------\n",
        "\n",
        "    splitting : list, length=2 * len(arrays)\n",
        "        List containing train-test split of inputs.\n",
        "    \n",
        "    \"\"\"\n",
        "\n",
        "    np.random.seed(random_state)\n",
        "    index = np.random.permutation(np.arange(len(arrays[0])))\n",
        "    test_size = int(len(arrays[0])*test_ratio)\n",
        "\n",
        "    def wrapper():\n",
        "        for element in arrays:\n",
        "            test_index = index[:test_size]\n",
        "            train_index = index[test_size:]\n",
        "            test = element[test_index]\n",
        "            train = element[train_index]\n",
        "            yield train\n",
        "            yield test\n",
        "\n",
        "    return tuple(wrapper())"
      ],
      "execution_count": 0,
      "outputs": []
    },
    {
      "cell_type": "markdown",
      "metadata": {
        "id": "-NkufB8Jt4Ul",
        "colab_type": "text"
      },
      "source": [
        "## make_batch_index"
      ]
    },
    {
      "cell_type": "code",
      "metadata": {
        "id": "HQsHqCzguW-x",
        "colab_type": "code",
        "colab": {}
      },
      "source": [
        "def make_batch_index(sample_size, num_batch, size, shuffle=False, random_state=42):\n",
        "    \"\"\"Make batch index for further batch making process\n",
        "\n",
        "    Parameters:\n",
        "    ----------\n",
        "\n",
        "    sample_size : integer \n",
        "        Sample size\n",
        "\n",
        "    num_batch : integer\n",
        "        Number of batch\n",
        "\n",
        "    size : integer\n",
        "        sample size will be created\n",
        "    \n",
        "    shuffle : boolean\n",
        "        If True, using permutation to create index.\n",
        "        If False, using arange to create index \n",
        "\n",
        "    random_state : integer\n",
        "        Random state seed\n",
        "\n",
        "    Returns:\n",
        "        Batch index\n",
        "    \n",
        "    \"\"\"\n",
        "\n",
        "\n",
        "    gen = np.random.RandomState(random_state)\n",
        "    if sample_size == size:\n",
        "        if shuffle:\n",
        "            index_batch = np.array_split(gen.permutation(sample_size), num_batch)\n",
        "        else:\n",
        "            index_batch = np.array_split(np.arange(sample_size), num_batch)\n",
        "    elif num_batch <= size:\n",
        "        index_batch = np.array_split(gen.randint(0, sample_size, size=size), num_batch)\n",
        "    else:\n",
        "        raise ValueError(\"Size must be higher than number of batch\")\n",
        "    \n",
        "    return index_batch"
      ],
      "execution_count": 0,
      "outputs": []
    },
    {
      "cell_type": "markdown",
      "metadata": {
        "id": "ljgAzR1WoZHN",
        "colab_type": "text"
      },
      "source": [
        "## MinMaxScaler"
      ]
    },
    {
      "cell_type": "code",
      "metadata": {
        "id": "6bkucisUoa2x",
        "colab_type": "code",
        "colab": {}
      },
      "source": [
        "class MinMaxScaler(object):\n",
        "    \"\"\" Scaling the data to between 0 and 1 \"\"\"\n",
        "\n",
        "    def __init__(self):\n",
        "        pass\n",
        "    \n",
        "    def fit(self, X):\n",
        "        self.min_ = X.min(axis=0)\n",
        "        self.max_ = X.max(axis=0)\n",
        "\n",
        "        return self\n",
        "\n",
        "    def transform(self, X):\n",
        "        diff_X = X - self.min_\n",
        "        diff_minmax = self.max_ - self.min_\n",
        "\n",
        "        return diff_X / diff_minmax\n",
        "    \n",
        "    def fit_transform(self, X):\n",
        "        self.fit(X)\n",
        "        return self.transform(X)\n"
      ],
      "execution_count": 0,
      "outputs": []
    },
    {
      "cell_type": "markdown",
      "metadata": {
        "id": "Xb_1GjRXzOoh",
        "colab_type": "text"
      },
      "source": [
        "## StandardScaler"
      ]
    },
    {
      "cell_type": "code",
      "metadata": {
        "id": "aTJWtWcFzP7Q",
        "colab_type": "code",
        "colab": {}
      },
      "source": [
        "class StandardScaler(object):\n",
        "    \"\"\" Standardize the data \"\"\"\n",
        "    \n",
        "    def __init__(self):\n",
        "        pass\n",
        "    \n",
        "    def fit(self, X):\n",
        "        self.mean_ = X.mean(axis=0)\n",
        "        self.stddev_ = X.std(axis=0)\n",
        "\n",
        "        return self\n",
        "\n",
        "    def transform(self, X):\n",
        "        diff_mean = X - self.mean_\n",
        "\n",
        "        return diff_mean / self.stddev_\n",
        "    \n",
        "    def fit_transform(self, X):\n",
        "        self.fit(X)\n",
        "        return self.transform(X)"
      ],
      "execution_count": 0,
      "outputs": []
    },
    {
      "cell_type": "markdown",
      "metadata": {
        "id": "zHUiJTHKzXmm",
        "colab_type": "text"
      },
      "source": [
        "---"
      ]
    },
    {
      "cell_type": "markdown",
      "metadata": {
        "id": "YBahGbuzge97",
        "colab_type": "text"
      },
      "source": [
        "## to_categorical"
      ]
    },
    {
      "cell_type": "code",
      "metadata": {
        "id": "VTKs1QWGgmxW",
        "colab_type": "code",
        "colab": {}
      },
      "source": [
        "def to_categorical(labels):\n",
        "\n",
        "    sample = len(labels)\n",
        "    cols = np.max(labels) + 1\n",
        "    result = np.zeros(shape=(sample, cols))\n",
        "    for i, row in enumerate(result):\n",
        "        row[labels[i]] = 1\n",
        "    \n",
        "    return result"
      ],
      "execution_count": 0,
      "outputs": []
    },
    {
      "cell_type": "markdown",
      "metadata": {
        "id": "lxKolu7zzYI6",
        "colab_type": "text"
      },
      "source": [
        "## Testing Site"
      ]
    },
    {
      "cell_type": "code",
      "metadata": {
        "id": "jWm9ZrqNzaVQ",
        "colab_type": "code",
        "colab": {}
      },
      "source": [
        "X1 = np.random.randint(0, 10, size=(100, 10))\n",
        "X2 = np.random.randint(0, 10, size=(250, 10))\n",
        "X3 = np.random.randint(0, 10, size=(300, 10))\n",
        "y1 = np.random.randint(0, 10, size=(100,))\n",
        "y2 = np.random.randint(0, 10, size=(250,))\n",
        "y3 = np.random.randint(0, 10, size=(300,))\n",
        "\n",
        "X1_train, X1_test, y1_train, y1_test = train_test_split(X1, y1)\n",
        "\n",
        "print(X1_train.shape)\n",
        "print(X1_test.shape)\n",
        "print(y1_train.shape)\n",
        "print(y1_test.shape)"
      ],
      "execution_count": 0,
      "outputs": []
    }
  ]
}